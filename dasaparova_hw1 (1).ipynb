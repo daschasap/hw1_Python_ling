{
 "cells": [
  {
   "cell_type": "markdown",
   "id": "9d5fd87d",
   "metadata": {},
   "source": [
    "### Data preparation"
   ]
  },
  {
   "cell_type": "markdown",
   "id": "11f8a98a",
   "metadata": {},
   "source": [
    "**Text:  http://lib.ru/BULGAKOW/whtguard.txt**"
   ]
  },
  {
   "cell_type": "code",
   "execution_count": 3,
   "id": "be41c22d",
   "metadata": {},
   "outputs": [
    {
     "name": "stdout",
     "output_type": "stream",
     "text": [
      "Requirement already satisfied: pymystem3 in c:\\users\\user\\anaconda3\\lib\\site-packages (0.2.0)\n",
      "Requirement already satisfied: requests in c:\\users\\user\\anaconda3\\lib\\site-packages (from pymystem3) (2.27.1)\n",
      "Requirement already satisfied: charset-normalizer~=2.0.0 in c:\\users\\user\\anaconda3\\lib\\site-packages (from requests->pymystem3) (2.0.4)\n",
      "Requirement already satisfied: certifi>=2017.4.17 in c:\\users\\user\\anaconda3\\lib\\site-packages (from requests->pymystem3) (2021.10.8)\n",
      "Requirement already satisfied: idna<4,>=2.5 in c:\\users\\user\\anaconda3\\lib\\site-packages (from requests->pymystem3) (3.3)\n",
      "Requirement already satisfied: urllib3<1.27,>=1.21.1 in c:\\users\\user\\anaconda3\\lib\\site-packages (from requests->pymystem3) (1.26.9)\n",
      "Note: you may need to restart the kernel to use updated packages.\n"
     ]
    }
   ],
   "source": [
    "pip install pymystem3"
   ]
  },
  {
   "cell_type": "code",
   "execution_count": null,
   "id": "44518f0c",
   "metadata": {},
   "outputs": [],
   "source": [
    "pip install pymorphy2"
   ]
  },
  {
   "cell_type": "code",
   "execution_count": 83,
   "id": "69eb269c",
   "metadata": {},
   "outputs": [],
   "source": [
    "from pymystem3 import Mystem\n",
    "import pymorphy2"
   ]
  },
  {
   "cell_type": "code",
   "execution_count": 84,
   "id": "fe95be43",
   "metadata": {},
   "outputs": [],
   "source": [
    "with open('text.txt', encoding = \"utf8\") as f:\n",
    "    text = f.readlines()"
   ]
  },
  {
   "cell_type": "code",
   "execution_count": 85,
   "id": "f320e1dc",
   "metadata": {},
   "outputs": [],
   "source": [
    "text = \"\".join(text)"
   ]
  },
  {
   "cell_type": "code",
   "execution_count": 86,
   "id": "0e1f9a46",
   "metadata": {},
   "outputs": [
    {
     "data": {
      "text/plain": [
       "'ЧАСТЬ ПЕРВАЯ\\n\\n\\n\\n1\\n\\n\\n   Велик был год и страшен год по рождестве Христовом 1918, от  начала  же\\nревол'"
      ]
     },
     "execution_count": 86,
     "metadata": {},
     "output_type": "execute_result"
    }
   ],
   "source": [
    "text[:100]"
   ]
  },
  {
   "cell_type": "code",
   "execution_count": 87,
   "id": "4024c462",
   "metadata": {},
   "outputs": [],
   "source": [
    "import re\n",
    "import string"
   ]
  },
  {
   "cell_type": "code",
   "execution_count": 88,
   "id": "c45809b1",
   "metadata": {},
   "outputs": [],
   "source": [
    "text = re.sub(r'\\n', \" \", text)\n",
    "text = re.sub(r'\\s{2,}', \" \", text)"
   ]
  },
  {
   "cell_type": "markdown",
   "id": "f5deb74d",
   "metadata": {},
   "source": [
    "### 1. Lemmatization "
   ]
  },
  {
   "cell_type": "code",
   "execution_count": 222,
   "id": "deb8dc1a",
   "metadata": {},
   "outputs": [],
   "source": [
    "m = Mystem()"
   ]
  },
  {
   "cell_type": "code",
   "execution_count": 90,
   "id": "653b66e5",
   "metadata": {},
   "outputs": [],
   "source": [
    "lemmas = m.lemmatize(text)"
   ]
  },
  {
   "cell_type": "code",
   "execution_count": 91,
   "id": "bf1efdec",
   "metadata": {},
   "outputs": [
    {
     "data": {
      "text/plain": [
       "['часть',\n",
       " ' ',\n",
       " 'первый',\n",
       " ' ',\n",
       " '1',\n",
       " ' ',\n",
       " 'большой',\n",
       " ' ',\n",
       " 'быть',\n",
       " ' ',\n",
       " 'год',\n",
       " ' ',\n",
       " 'и',\n",
       " ' ',\n",
       " 'страшный']"
      ]
     },
     "execution_count": 91,
     "metadata": {},
     "output_type": "execute_result"
    }
   ],
   "source": [
    "lemmas[:15]"
   ]
  },
  {
   "cell_type": "code",
   "execution_count": 94,
   "id": "9176a2c5",
   "metadata": {},
   "outputs": [],
   "source": [
    "with open('lemmas.txt', 'w') as f:\n",
    "    for word in lemmas:\n",
    "        f.write(word)"
   ]
  },
  {
   "cell_type": "markdown",
   "id": "c870c982",
   "metadata": {},
   "source": [
    "### 2. Tokenization and morphological analysis"
   ]
  },
  {
   "cell_type": "code",
   "execution_count": 46,
   "id": "dc0e826c",
   "metadata": {},
   "outputs": [
    {
     "name": "stderr",
     "output_type": "stream",
     "text": [
      "[nltk_data] Downloading package punkt to\n",
      "[nltk_data]     C:\\Users\\User\\AppData\\Roaming\\nltk_data...\n",
      "[nltk_data]   Unzipping tokenizers\\punkt.zip.\n",
      "[nltk_data] Downloading package averaged_perceptron_tagger to\n",
      "[nltk_data]     C:\\Users\\User\\AppData\\Roaming\\nltk_data...\n",
      "[nltk_data]   Unzipping taggers\\averaged_perceptron_tagger.zip.\n"
     ]
    },
    {
     "data": {
      "text/plain": [
       "True"
      ]
     },
     "execution_count": 46,
     "metadata": {},
     "output_type": "execute_result"
    }
   ],
   "source": [
    "import nltk\n",
    "nltk.download('punkt')\n",
    "nltk.download('averaged_perceptron_tagger')"
   ]
  },
  {
   "cell_type": "code",
   "execution_count": 47,
   "id": "82c4e147",
   "metadata": {},
   "outputs": [],
   "source": [
    "#tokenization\n",
    "tokens = nltk.word_tokenize(text)"
   ]
  },
  {
   "cell_type": "code",
   "execution_count": 48,
   "id": "f044129c",
   "metadata": {},
   "outputs": [
    {
     "data": {
      "text/plain": [
       "['ЧАСТЬ',\n",
       " 'ПЕРВАЯ',\n",
       " '1',\n",
       " 'Велик',\n",
       " 'был',\n",
       " 'год',\n",
       " 'и',\n",
       " 'страшен',\n",
       " 'год',\n",
       " 'по',\n",
       " 'рождестве',\n",
       " 'Христовом',\n",
       " '1918',\n",
       " ',',\n",
       " 'от']"
      ]
     },
     "execution_count": 48,
     "metadata": {},
     "output_type": "execute_result"
    }
   ],
   "source": [
    "tokens[:15]"
   ]
  },
  {
   "cell_type": "code",
   "execution_count": 56,
   "id": "8b3761ee",
   "metadata": {},
   "outputs": [],
   "source": [
    "#pymorphy\n",
    "from pymorphy2 import MorphAnalyzer\n",
    "morph = MorphAnalyzer()"
   ]
  },
  {
   "cell_type": "code",
   "execution_count": 77,
   "id": "8b94d77b",
   "metadata": {},
   "outputs": [],
   "source": [
    "#{\"lemma\": \"конь\", \"word\": \"коня\", \"pos\": \"NOUN\"}\n",
    "ana = []\n",
    "for word in tokens:\n",
    "    dict = {}\n",
    "    lemma = morph.parse(word)[0][2]\n",
    "    word = morph.parse(word)[0][0]\n",
    "    pos = str(morph.parse(word)[0][1]).split(\",\")[0]\n",
    "    dict[\"lemma\"] = lemma\n",
    "    dict[\"word\"] = word\n",
    "    dict[\"pos\"] = pos\n",
    "    ana.append(dict)"
   ]
  },
  {
   "cell_type": "code",
   "execution_count": 78,
   "id": "5fd2dc98",
   "metadata": {},
   "outputs": [
    {
     "data": {
      "text/plain": [
       "[{'lemma': 'часть', 'word': 'часть', 'pos': 'NOUN'},\n",
       " {'lemma': 'первый', 'word': 'первая', 'pos': 'ADJF'},\n",
       " {'lemma': '1', 'word': '1', 'pos': 'NUMB'},\n",
       " {'lemma': 'большой', 'word': 'велик', 'pos': 'ADJS'},\n",
       " {'lemma': 'быть', 'word': 'был', 'pos': 'VERB'},\n",
       " {'lemma': 'год', 'word': 'год', 'pos': 'NOUN'},\n",
       " {'lemma': 'и', 'word': 'и', 'pos': 'CONJ'},\n",
       " {'lemma': 'страшный', 'word': 'страшен', 'pos': 'ADJS'},\n",
       " {'lemma': 'год', 'word': 'год', 'pos': 'NOUN'},\n",
       " {'lemma': 'по', 'word': 'по', 'pos': 'PREP'}]"
      ]
     },
     "execution_count": 78,
     "metadata": {},
     "output_type": "execute_result"
    }
   ],
   "source": [
    "ana[:10]"
   ]
  },
  {
   "cell_type": "code",
   "execution_count": 80,
   "id": "83cfcddd",
   "metadata": {},
   "outputs": [
    {
     "data": {
      "text/plain": [
       "list"
      ]
     },
     "execution_count": 80,
     "metadata": {},
     "output_type": "execute_result"
    }
   ],
   "source": [
    "type(ana)"
   ]
  },
  {
   "cell_type": "code",
   "execution_count": 96,
   "id": "7b234ccc",
   "metadata": {},
   "outputs": [],
   "source": [
    "import json\n",
    "with open('analized.json', 'w') as f:\n",
    "    json.dump(ana, f)"
   ]
  },
  {
   "cell_type": "markdown",
   "id": "4ac9e6a0",
   "metadata": {},
   "source": [
    "### 3. Answer the following questions:"
   ]
  },
  {
   "cell_type": "markdown",
   "id": "6c10f51e",
   "metadata": {},
   "source": [
    "**2. Print out top-20 verbs and adverbs**"
   ]
  },
  {
   "cell_type": "code",
   "execution_count": 241,
   "id": "c0060902",
   "metadata": {},
   "outputs": [
    {
     "data": {
      "text/plain": [
       "[('ещё', 170),\n",
       " ('уже', 140),\n",
       " ('только', 135),\n",
       " ('очень', 102),\n",
       " ('тут', 99),\n",
       " ('где', 97),\n",
       " ('там', 95),\n",
       " ('потом', 91),\n",
       " ('сейчас', 87),\n",
       " ('совершенно', 81),\n",
       " ('ничего', 74),\n",
       " ('потому', 71),\n",
       " ('вдруг', 67),\n",
       " ('теперь', 58),\n",
       " ('здесь', 50),\n",
       " ('затем', 50),\n",
       " ('опять', 46),\n",
       " ('уж', 42),\n",
       " ('тогда', 40),\n",
       " ('совсем', 38)]"
      ]
     },
     "execution_count": 241,
     "metadata": {},
     "output_type": "execute_result"
    }
   ],
   "source": [
    "#adverbs\n",
    "adv = []\n",
    "for x in range(len(ana)):\n",
    "    if \"ADVB\" in ana[x].values():\n",
    "        adv.append(ana[x]['lemma'])\n",
    "\n",
    "adv_count = Counter(adv)\n",
    "sorted(adv_count.items(), key=lambda x: x[1], reverse = True)[:20]"
   ]
  },
  {
   "cell_type": "code",
   "execution_count": 242,
   "id": "a3aa666e",
   "metadata": {},
   "outputs": [
    {
     "data": {
      "text/plain": [
       "[('быть', 669),\n",
       " ('сказать', 204),\n",
       " ('стать', 165),\n",
       " ('мочь', 152),\n",
       " ('говорить', 142),\n",
       " ('знать', 132),\n",
       " ('идти', 99),\n",
       " ('ответить', 94),\n",
       " ('стоять', 65),\n",
       " ('спросить', 63),\n",
       " ('видеть', 56),\n",
       " ('выйти', 55),\n",
       " ('думать', 54),\n",
       " ('дать', 51),\n",
       " ('пройти', 49),\n",
       " ('прийти', 47),\n",
       " ('бежать', 45),\n",
       " ('лежать', 43),\n",
       " ('сидеть', 42),\n",
       " ('исчезнуть', 41)]"
      ]
     },
     "execution_count": 242,
     "metadata": {},
     "output_type": "execute_result"
    }
   ],
   "source": [
    "#verbs\n",
    "verb = []\n",
    "for x in range(len(ana)):\n",
    "    if \"VERB\" in ana[x].values():\n",
    "        verb.append(ana[x]['lemma'])\n",
    "\n",
    "verb_count = Counter(verb)\n",
    "sorted(verb_count.items(), key=lambda x: x[1], reverse = True)[:20]\n",
    "\n",
    "\n"
   ]
  },
  {
   "cell_type": "markdown",
   "id": "18f4dfe3",
   "metadata": {},
   "source": [
    "### 4. Bigrams and trigrams"
   ]
  },
  {
   "cell_type": "code",
   "execution_count": 218,
   "id": "34a41253",
   "metadata": {},
   "outputs": [],
   "source": [
    "#no punctuation\n",
    "text1 = text.translate(str.maketrans(' ', ' ', string.punctuation))\n"
   ]
  },
  {
   "cell_type": "code",
   "execution_count": 206,
   "id": "6b99e9a0",
   "metadata": {},
   "outputs": [],
   "source": [
    "tokens = nltk.word_tokenize(text)"
   ]
  },
  {
   "cell_type": "code",
   "execution_count": 223,
   "id": "00601a23",
   "metadata": {},
   "outputs": [],
   "source": [
    "lemmas1 = m.lemmatize(text1)"
   ]
  },
  {
   "cell_type": "code",
   "execution_count": 226,
   "id": "2963fb74",
   "metadata": {},
   "outputs": [],
   "source": [
    "lemmas1 = ''.join(lemmas1)"
   ]
  },
  {
   "cell_type": "code",
   "execution_count": 228,
   "id": "1684ce31",
   "metadata": {},
   "outputs": [],
   "source": [
    "tokens = nltk.word_tokenize(lemmas1)"
   ]
  },
  {
   "cell_type": "code",
   "execution_count": 229,
   "id": "2f255e69",
   "metadata": {},
   "outputs": [
    {
     "data": {
      "text/plain": [
       "list"
      ]
     },
     "execution_count": 229,
     "metadata": {},
     "output_type": "execute_result"
    }
   ],
   "source": [
    "type(tokens)"
   ]
  },
  {
   "cell_type": "code",
   "execution_count": 244,
   "id": "17abc03d",
   "metadata": {},
   "outputs": [],
   "source": [
    "from nltk.util import bigrams\n",
    "from collections import Counter"
   ]
  },
  {
   "cell_type": "code",
   "execution_count": 245,
   "id": "af3163f3",
   "metadata": {},
   "outputs": [
    {
     "data": {
      "text/plain": [
       "[(('и', 'в'), 97),\n",
       " (('не', 'быть'), 82),\n",
       " (('в', 'город'), 76),\n",
       " (('и', 'не'), 68),\n",
       " (('что', 'он'), 67),\n",
       " (('потому', 'что'), 65),\n",
       " (('не', 'мочь'), 56),\n",
       " (('в', 'этот'), 51),\n",
       " (('то', 'что'), 51),\n",
       " (('мочь', 'быть'), 50),\n",
       " (('у', 'он'), 50),\n",
       " (('он', 'и'), 48),\n",
       " (('господин', 'полковник'), 48),\n",
       " (('не', 'знать'), 46),\n",
       " (('он', 'не'), 45),\n",
       " (('он', 'в'), 45),\n",
       " (('ничто', 'не'), 39),\n",
       " (('что', 'вы'), 39),\n",
       " (('николка', 'и'), 38),\n",
       " (('и', 'на'), 36),\n",
       " (('он', 'быть'), 35),\n",
       " (('в', 'глаз'), 34),\n",
       " (('что', 'я'), 33),\n",
       " (('в', 'черный'), 32)]"
      ]
     },
     "execution_count": 245,
     "metadata": {},
     "output_type": "execute_result"
    }
   ],
   "source": [
    "#BIgrams\n",
    "bi_l = list(bigrams(tokens))\n",
    "bi_2 = Counter(bi_l)\n",
    "sorted(bi_2.items(), key=lambda x: x[1], reverse = True)[:24]"
   ]
  }
 ],
 "metadata": {
  "kernelspec": {
   "display_name": "Python 3 (ipykernel)",
   "language": "python",
   "name": "python3"
  },
  "language_info": {
   "codemirror_mode": {
    "name": "ipython",
    "version": 3
   },
   "file_extension": ".py",
   "mimetype": "text/x-python",
   "name": "python",
   "nbconvert_exporter": "python",
   "pygments_lexer": "ipython3",
   "version": "3.9.12"
  }
 },
 "nbformat": 4,
 "nbformat_minor": 5
}
